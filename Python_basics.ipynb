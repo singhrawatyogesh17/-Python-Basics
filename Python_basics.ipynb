{
  "nbformat": 4,
  "nbformat_minor": 0,
  "metadata": {
    "colab": {
      "provenance": []
    },
    "kernelspec": {
      "name": "python3",
      "display_name": "Python 3"
    },
    "language_info": {
      "name": "python"
    }
  },
  "cells": [
    {
      "cell_type": "markdown",
      "source": [
        "## Python Basics Assignment\n"
      ],
      "metadata": {
        "id": "L6TE06BY2lOX"
      }
    },
    {
      "cell_type": "markdown",
      "source": [
        "1.  What is Python, and why is it popular?\n",
        "- Python is a programming language that is easy to understand and write.It\n",
        " also has an extensive standard Library and it is object oriented and functional programming Language.\n",
        "\n",
        "2. What is an interpreter in Python?\n",
        "- It is a computer program which converts th code into machine code (byte code)line by line ,one at a time.\n",
        "\n",
        "\n",
        "3. What are pre-defined keywords in Python?\n",
        "- Pre-defined keywords are reserved words used in python that have special meanings .\n",
        "-keywords are case senstive and cannot be re-defined or overridden in Python .\n",
        "for eg: if,else,elif,while,for,TRUE, FALSE,import,return,NONEetc.\n",
        "\n",
        "4. Can keywords be used as variable names?\n",
        "- No, Keywords  cannot be used as Variable names or function names.\n",
        "\n",
        "5. What is mutability in Python?\n",
        "- In Python, mutability means to change or modify .\n",
        "Objects in python can be either changeable or unachangeable.\n",
        "Mutable objects Eg: Lists , dictionaries which can be modidifed after creation.\n",
        "\n",
        "6.Why are lists mutable, but tuples are immutable?\n",
        "- Lists and tuples handled differently in Python. Immutable objects such as Tuples are quicker to use and access and can be used to secure data where content of the object cannot be changed.\n",
        "-Whereas if we talk about lists which are mutable are used extensively for data purposes where content needs to be changed and comparitively difficult to handle as in larger data units because of lot of insertion and modification in content.\n",
        "\n",
        "\n",
        "-\n",
        "\n"
      ],
      "metadata": {
        "id": "jTwrKWMo2sC9"
      }
    },
    {
      "cell_type": "markdown",
      "source": [
        "7. What is the difference between “==” and “is” operators in Python?\n",
        "-In Python, \"==\" and \"is\" operator both are comparison operators but they served different purposes.\n",
        "\n",
        "\"==\" operator checks whether the values of two objects are same .\n",
        "## code eg:"
      ],
      "metadata": {
        "id": "5JO3DRJIBfNI"
      }
    },
    {
      "cell_type": "code",
      "source": [
        "A = [1,2,3]\n",
        "B = [1,2,3]\n",
        "if A==B:\n",
        "  print(\"True\")\n",
        "else:\n",
        "  print(\"False\")"
      ],
      "metadata": {
        "colab": {
          "base_uri": "https://localhost:8080/"
        },
        "id": "OznPylKXChT8",
        "outputId": "7749dcda-a393-4d91-fea3-ad608994e1a7"
      },
      "execution_count": 2,
      "outputs": [
        {
          "output_type": "stream",
          "name": "stdout",
          "text": [
            "True\n"
          ]
        }
      ]
    },
    {
      "cell_type": "markdown",
      "source": [
        "\"is\" operator is used to compared based on their identity.\n",
        "\n",
        "#Code eg:"
      ],
      "metadata": {
        "id": "lqQgo4CSC2QR"
      }
    },
    {
      "cell_type": "code",
      "source": [
        "A = [1,2,3]\n",
        "B = [1,2,3]\n",
        "if A is B:\n",
        "  print(\"True\")\n",
        "else:\n",
        "  print(\"False\")"
      ],
      "metadata": {
        "colab": {
          "base_uri": "https://localhost:8080/"
        },
        "id": "ncLW0CMZDd91",
        "outputId": "bca0eb7a-1ca0-4701-a4f7-d74fdcd56121"
      },
      "execution_count": 3,
      "outputs": [
        {
          "output_type": "stream",
          "name": "stdout",
          "text": [
            "False\n"
          ]
        }
      ]
    },
    {
      "cell_type": "markdown",
      "source": [
        "8. What are logical operators in Python?\n",
        "-Logical operators in python used in conditional statements and allow to perform operations based on multiple conditions.\n",
        "Logical ops. : and , or , not\n",
        "\n",
        "9.  What is type casting in Python?\n",
        "-Type casting is a process through which we can convert one data type into anotehr in Python.It is also known as Type conversion.\n",
        "It is of 2 types:\n",
        "\n",
        "*Implicit Type Casting\n",
        "\n",
        "*Explicit Type Casting\n",
        "\n",
        "10. What is the difference between implicit and explicit type casting?\n",
        "- Implicit Type Casting:\n",
        "In this type casting , Python converts data into another datatype automatically and without any instruction.\n",
        "\n",
        "#code Eg:"
      ],
      "metadata": {
        "id": "qjaViwg5DolY"
      }
    },
    {
      "cell_type": "code",
      "source": [
        "a = 5\n",
        "b = 7.3\n",
        "print(a+b)\n",
        "print(type(a+b))"
      ],
      "metadata": {
        "colab": {
          "base_uri": "https://localhost:8080/"
        },
        "id": "_DoAswR5MMj7",
        "outputId": "74193c15-cb5d-45f0-8e88-95a2794ab81a"
      },
      "execution_count": 5,
      "outputs": [
        {
          "output_type": "stream",
          "name": "stdout",
          "text": [
            "12.3\n",
            "<class 'float'>\n"
          ]
        }
      ]
    },
    {
      "cell_type": "markdown",
      "source": [
        "- Explicit Type Casting:\n",
        "In this type casting user need to provide or use predefined fucntions to convert one datatype into another like int(),float(),str(),etc.\n",
        "\n",
        "#Code eg:"
      ],
      "metadata": {
        "id": "R-6QWTG7MjQf"
      }
    },
    {
      "cell_type": "code",
      "source": [
        "a = 5 #int datatype converted into float datatype.\n",
        "float(a)\n"
      ],
      "metadata": {
        "colab": {
          "base_uri": "https://localhost:8080/"
        },
        "id": "pAui8pJsNA1y",
        "outputId": "0967cb99-191b-401a-eb32-e18d3256105e"
      },
      "execution_count": 10,
      "outputs": [
        {
          "output_type": "execute_result",
          "data": {
            "text/plain": [
              "5.0"
            ]
          },
          "metadata": {},
          "execution_count": 10
        }
      ]
    },
    {
      "cell_type": "markdown",
      "source": [
        "11.  What is the purpose of conditional statements in Python?\n",
        "- Conditionals in Python are used to execute code based on the evaluation of one or more conditions.\n",
        "These statements help control the flow of a program\n",
        "\n",
        "Python have conditional statements such as if, elif (else if), and else to control the flow of execution.\n",
        "\n",
        "12. How does the elif statement work?\n",
        "-elif statement stands for \"else if\".It can be used to check multiple conditions.\n",
        "\n",
        "#code eg:\n"
      ],
      "metadata": {
        "id": "fUZ10QCSNkCH"
      }
    },
    {
      "cell_type": "code",
      "source": [
        "Age = 24\n",
        "if Age < 18:\n",
        "  print(\"teenager\")\n",
        "elif 18 < Age < 25:\n",
        "  print(\"Young Adult\")\n",
        "else:\n",
        "  print(\"Adult\")"
      ],
      "metadata": {
        "colab": {
          "base_uri": "https://localhost:8080/"
        },
        "id": "zcBt-dFwO9Wm",
        "outputId": "b2819eff-52a6-4222-dbf1-cf41b2296ce0"
      },
      "execution_count": 12,
      "outputs": [
        {
          "output_type": "stream",
          "name": "stdout",
          "text": [
            "Young Adult\n"
          ]
        }
      ]
    },
    {
      "cell_type": "markdown",
      "source": [
        "13.  What is the difference between for and while loops?\n",
        "-for loop are used to iterate over a sequence of elements .\n",
        "\n",
        "-while loop are used to execute code until a specified condition becomes false.\n",
        "\n",
        "#Code eg:\n"
      ],
      "metadata": {
        "id": "mGpHb5ORPu4S"
      }
    },
    {
      "cell_type": "code",
      "source": [
        "for i in range(3):# for loop use :\n",
        "  print(i)"
      ],
      "metadata": {
        "colab": {
          "base_uri": "https://localhost:8080/"
        },
        "id": "rY7cG6CoQ2kU",
        "outputId": "05a842df-3dc9-411c-86cc-bcb14336e4d5"
      },
      "execution_count": 13,
      "outputs": [
        {
          "output_type": "stream",
          "name": "stdout",
          "text": [
            "0\n",
            "1\n",
            "2\n"
          ]
        }
      ]
    },
    {
      "cell_type": "code",
      "source": [
        "count = 0\n",
        "while count < 3:\n",
        "  print(count)\n",
        "  count += 1"
      ],
      "metadata": {
        "colab": {
          "base_uri": "https://localhost:8080/"
        },
        "id": "O9osvPGbRLBk",
        "outputId": "17dfa358-0f48-4587-ddcb-36b3c5cc56e3"
      },
      "execution_count": 14,
      "outputs": [
        {
          "output_type": "stream",
          "name": "stdout",
          "text": [
            "0\n",
            "1\n",
            "2\n"
          ]
        }
      ]
    },
    {
      "cell_type": "markdown",
      "source": [
        "14. Describe a scenario where a while loop is more suitable than a for loop?\n",
        "-A while loop is more suitable when you don't know in advance how many times user want to execute the code. It continues to execute until the condition is true.\n"
      ],
      "metadata": {
        "id": "WuJC_ku7Rcw7"
      }
    },
    {
      "cell_type": "code",
      "source": [
        "count = 0\n",
        "while (count < 5):\n",
        "    count = count + 1\n",
        "    print(\"Hello Yogesh\")"
      ],
      "metadata": {
        "colab": {
          "base_uri": "https://localhost:8080/"
        },
        "id": "oC5s2VYVT4q-",
        "outputId": "f9b697ae-1e3f-4dd9-dd32-11244c3b3891"
      },
      "execution_count": 16,
      "outputs": [
        {
          "output_type": "stream",
          "name": "stdout",
          "text": [
            "Hello Yogesh\n",
            "Hello Yogesh\n",
            "Hello Yogesh\n",
            "Hello Yogesh\n",
            "Hello Yogesh\n"
          ]
        }
      ]
    },
    {
      "cell_type": "markdown",
      "source": [
        "### **Practical** **Questions**"
      ],
      "metadata": {
        "id": "5dS3svbTUJus"
      }
    },
    {
      "cell_type": "markdown",
      "source": [
        "1. Write a Python program to print \"Hello, World!\n"
      ],
      "metadata": {
        "id": "31Rpicc0UTTK"
      }
    },
    {
      "cell_type": "code",
      "source": [
        "print( \"Hello, World\")"
      ],
      "metadata": {
        "colab": {
          "base_uri": "https://localhost:8080/"
        },
        "id": "RlQzMriWUZXX",
        "outputId": "e0eab0bf-fca5-48c7-bf0f-9f2198afd295"
      },
      "execution_count": 20,
      "outputs": [
        {
          "output_type": "stream",
          "name": "stdout",
          "text": [
            "Hello, World\n"
          ]
        }
      ]
    },
    {
      "cell_type": "markdown",
      "source": [
        "2.  Write a Python program that displays your name and age."
      ],
      "metadata": {
        "id": "T0CuSfvWUyDQ"
      }
    },
    {
      "cell_type": "code",
      "source": [
        "name = input(\"enter your name\")\n",
        "age = int(input(\"enter your age\"))\n",
        "print(f\"My name is {name} and my age is {age}\")\n",
        "\n"
      ],
      "metadata": {
        "colab": {
          "base_uri": "https://localhost:8080/"
        },
        "id": "ZwIBq0mSU11A",
        "outputId": "0adad547-51f2-484e-8ad6-05824581e27a"
      },
      "execution_count": 21,
      "outputs": [
        {
          "output_type": "stream",
          "name": "stdout",
          "text": [
            "enter your nameYogesh Singh Rawat\n",
            "enter your age24\n",
            "My name is Yogesh Singh Rawat and my age is 24\n"
          ]
        }
      ]
    },
    {
      "cell_type": "markdown",
      "source": [
        "3.  Write code to print all the pre-defined keywords in Python using the keyword library."
      ],
      "metadata": {
        "id": "JI6uYZIpaQak"
      }
    },
    {
      "cell_type": "code",
      "source": [
        "help(\"keywords\")"
      ],
      "metadata": {
        "colab": {
          "base_uri": "https://localhost:8080/"
        },
        "id": "RXK2bwU7bKjg",
        "outputId": "96b6df73-24ff-4807-9c32-9379244bc740"
      },
      "execution_count": 24,
      "outputs": [
        {
          "output_type": "stream",
          "name": "stdout",
          "text": [
            "\n",
            "Here is a list of the Python keywords.  Enter any keyword to get more help.\n",
            "\n",
            "False               class               from                or\n",
            "None                continue            global              pass\n",
            "True                def                 if                  raise\n",
            "and                 del                 import              return\n",
            "as                  elif                in                  try\n",
            "assert              else                is                  while\n",
            "async               except              lambda              with\n",
            "await               finally             nonlocal            yield\n",
            "break               for                 not                 \n",
            "\n"
          ]
        }
      ]
    },
    {
      "cell_type": "markdown",
      "source": [
        "4.  Write a program that checks if a given word is a Python keyword."
      ],
      "metadata": {
        "id": "L7evdXkbbUOq"
      }
    },
    {
      "cell_type": "code",
      "source": [
        "s = 'for'\n",
        "\n",
        "# Check if it's a Python keyword\n",
        "if keyword.iskeyword(s):\n",
        "    print(f\"'{s}' is a Python keyword.\")\n",
        "else:\n",
        "    print(f\"'{s}' is not a Python keyword.\")"
      ],
      "metadata": {
        "colab": {
          "base_uri": "https://localhost:8080/"
        },
        "id": "So599B_Rewp0",
        "outputId": "0a914fc2-27ff-4da4-bfee-69fedd0002f7"
      },
      "execution_count": 35,
      "outputs": [
        {
          "output_type": "stream",
          "name": "stdout",
          "text": [
            "'for' is a Python keyword.\n"
          ]
        }
      ]
    },
    {
      "cell_type": "markdown",
      "source": [
        "5. Create a list and tuple in Python, and demonstrate how attempting to change an element works differently\n",
        "for each.\n"
      ],
      "metadata": {
        "id": "4SeEecGfez6V"
      }
    },
    {
      "cell_type": "code",
      "source": [
        "my_list = [\"fruits\", \"yogurt\", \"milk\"]#list changing an element\n",
        "my_list[2]  = \"juice\"\n",
        "my_list"
      ],
      "metadata": {
        "colab": {
          "base_uri": "https://localhost:8080/"
        },
        "id": "tojIfhrdfBgZ",
        "outputId": "3a13f881-3f54-47d4-8374-d79bf1be2ae4"
      },
      "execution_count": 41,
      "outputs": [
        {
          "output_type": "execute_result",
          "data": {
            "text/plain": [
              "['fruits', 'yogurt', 'juice']"
            ]
          },
          "metadata": {},
          "execution_count": 41
        }
      ]
    },
    {
      "cell_type": "code",
      "source": [
        "a = (\"fruits\", \"yogurt\", \"milk\")\n",
        "a[2] = \"juice\"\n",
        "print(a)"
      ],
      "metadata": {
        "colab": {
          "base_uri": "https://localhost:8080/",
          "height": 182
        },
        "id": "JNfsmiRZgBCz",
        "outputId": "59a66dfb-4a12-429a-e656-a424215ee71b"
      },
      "execution_count": 45,
      "outputs": [
        {
          "output_type": "error",
          "ename": "TypeError",
          "evalue": "'tuple' object does not support item assignment",
          "traceback": [
            "\u001b[0;31m---------------------------------------------------------------------------\u001b[0m",
            "\u001b[0;31mTypeError\u001b[0m                                 Traceback (most recent call last)",
            "\u001b[0;32m<ipython-input-45-0699c71bd226>\u001b[0m in \u001b[0;36m<cell line: 0>\u001b[0;34m()\u001b[0m\n\u001b[1;32m      1\u001b[0m \u001b[0ma\u001b[0m \u001b[0;34m=\u001b[0m \u001b[0;34m(\u001b[0m\u001b[0;34m\"fruits\"\u001b[0m\u001b[0;34m,\u001b[0m \u001b[0;34m\"yogurt\"\u001b[0m\u001b[0;34m,\u001b[0m \u001b[0;34m\"milk\"\u001b[0m\u001b[0;34m)\u001b[0m\u001b[0;34m\u001b[0m\u001b[0;34m\u001b[0m\u001b[0m\n\u001b[0;32m----> 2\u001b[0;31m \u001b[0ma\u001b[0m\u001b[0;34m[\u001b[0m\u001b[0;36m2\u001b[0m\u001b[0;34m]\u001b[0m \u001b[0;34m=\u001b[0m \u001b[0;34m\"juice\"\u001b[0m\u001b[0;34m\u001b[0m\u001b[0;34m\u001b[0m\u001b[0m\n\u001b[0m\u001b[1;32m      3\u001b[0m \u001b[0mprint\u001b[0m\u001b[0;34m(\u001b[0m\u001b[0ma\u001b[0m\u001b[0;34m)\u001b[0m\u001b[0;34m\u001b[0m\u001b[0;34m\u001b[0m\u001b[0m\n",
            "\u001b[0;31mTypeError\u001b[0m: 'tuple' object does not support item assignment"
          ]
        }
      ]
    },
    {
      "cell_type": "markdown",
      "source": [
        "6. Write a function to demonstrate the behavior of mutable and immutable\n",
        "arguments."
      ],
      "metadata": {
        "id": "UyJ9VKbxhOwa"
      }
    },
    {
      "cell_type": "code",
      "source": [
        "tuple1 = (0, 1, 2, 3) # Python code to test that tuples are immutable\n",
        "tuple1[0] = 4\n",
        "print(tuple1)"
      ],
      "metadata": {
        "colab": {
          "base_uri": "https://localhost:8080/",
          "height": 182
        },
        "id": "L2UNZk3hhvWD",
        "outputId": "ae03dd1a-89eb-4903-c3e0-6d04f794d4e7"
      },
      "execution_count": 46,
      "outputs": [
        {
          "output_type": "error",
          "ename": "TypeError",
          "evalue": "'tuple' object does not support item assignment",
          "traceback": [
            "\u001b[0;31m---------------------------------------------------------------------------\u001b[0m",
            "\u001b[0;31mTypeError\u001b[0m                                 Traceback (most recent call last)",
            "\u001b[0;32m<ipython-input-46-0276dac73d3e>\u001b[0m in \u001b[0;36m<cell line: 0>\u001b[0;34m()\u001b[0m\n\u001b[1;32m      1\u001b[0m \u001b[0mtuple1\u001b[0m \u001b[0;34m=\u001b[0m \u001b[0;34m(\u001b[0m\u001b[0;36m0\u001b[0m\u001b[0;34m,\u001b[0m \u001b[0;36m1\u001b[0m\u001b[0;34m,\u001b[0m \u001b[0;36m2\u001b[0m\u001b[0;34m,\u001b[0m \u001b[0;36m3\u001b[0m\u001b[0;34m)\u001b[0m \u001b[0;31m# Python code to test that tuples are immutable\u001b[0m\u001b[0;34m\u001b[0m\u001b[0;34m\u001b[0m\u001b[0m\n\u001b[0;32m----> 2\u001b[0;31m \u001b[0mtuple1\u001b[0m\u001b[0;34m[\u001b[0m\u001b[0;36m0\u001b[0m\u001b[0;34m]\u001b[0m \u001b[0;34m=\u001b[0m \u001b[0;36m4\u001b[0m\u001b[0;34m\u001b[0m\u001b[0;34m\u001b[0m\u001b[0m\n\u001b[0m\u001b[1;32m      3\u001b[0m \u001b[0mprint\u001b[0m\u001b[0;34m(\u001b[0m\u001b[0mtuple1\u001b[0m\u001b[0;34m)\u001b[0m\u001b[0;34m\u001b[0m\u001b[0;34m\u001b[0m\u001b[0m\n",
            "\u001b[0;31mTypeError\u001b[0m: 'tuple' object does not support item assignment"
          ]
        }
      ]
    },
    {
      "cell_type": "code",
      "source": [
        "my_list = [\"fruits\", \"yogurt\", \"milk\"]#list changing an element shows mutability\n",
        "my_list[2]  = \"juice\"\n",
        "my_list"
      ],
      "metadata": {
        "colab": {
          "base_uri": "https://localhost:8080/"
        },
        "id": "IRz_j420iHci",
        "outputId": "c6274345-7140-4d71-c5e8-73b14603edc9"
      },
      "execution_count": 47,
      "outputs": [
        {
          "output_type": "execute_result",
          "data": {
            "text/plain": [
              "['fruits', 'yogurt', 'juice']"
            ]
          },
          "metadata": {},
          "execution_count": 47
        }
      ]
    },
    {
      "cell_type": "markdown",
      "source": [
        "7. Write a program that performs basic arithmetic operations on two user-input numbers"
      ],
      "metadata": {
        "id": "-KvdV0gsiZnE"
      }
    },
    {
      "cell_type": "code",
      "source": [
        "a = 5\n",
        "b = 3\n",
        "print(a+b)\n",
        "print(a-b)\n",
        "print(a*b)\n",
        "print(a/b)\n",
        "print(a**b)\n",
        "print(a//b)\n",
        "print(a%b)\n"
      ],
      "metadata": {
        "colab": {
          "base_uri": "https://localhost:8080/"
        },
        "id": "ElUL_UFTigH9",
        "outputId": "1ae3ed63-3843-4fcd-ec90-89965dc13f0f"
      },
      "execution_count": 48,
      "outputs": [
        {
          "output_type": "stream",
          "name": "stdout",
          "text": [
            "8\n",
            "2\n",
            "15\n",
            "1.6666666666666667\n",
            "125\n",
            "1\n",
            "2\n"
          ]
        }
      ]
    },
    {
      "cell_type": "markdown",
      "source": [
        "8.  Write a program to demonstrate the use of logical operators.\n"
      ],
      "metadata": {
        "id": "OtnvdjOokB5c"
      }
    },
    {
      "cell_type": "code",
      "source": [
        "a = 10 # and operator\n",
        "b = 12\n",
        "c = 0\n",
        "if a and b and c:\n",
        "    print(\"All the numbers have boolean value as True\")\n",
        "else:\n",
        "    print(\"Atleast one number has boolean value as False\")"
      ],
      "metadata": {
        "colab": {
          "base_uri": "https://localhost:8080/"
        },
        "id": "IpBZw3FdkWNd",
        "outputId": "d0f6c74a-5271-40de-b932-74906ffbffd7"
      },
      "execution_count": 49,
      "outputs": [
        {
          "output_type": "stream",
          "name": "stdout",
          "text": [
            "Atleast one number has boolean value as False\n"
          ]
        }
      ]
    },
    {
      "cell_type": "code",
      "source": [
        "a = 10 # or operator\n",
        "b = 12\n",
        "c = 0\n",
        "if a or b or c:\n",
        "    print(\"Atleast one number has boolean value as True\")\n",
        "else:\n",
        "    print(\"All the numbers have boolean value as False\")"
      ],
      "metadata": {
        "colab": {
          "base_uri": "https://localhost:8080/"
        },
        "id": "Q6oYiZA6lPv_",
        "outputId": "114fa04d-0002-4a8d-83c3-337d00e751f6"
      },
      "execution_count": 50,
      "outputs": [
        {
          "output_type": "stream",
          "name": "stdout",
          "text": [
            "Atleast one number has boolean value as True\n"
          ]
        }
      ]
    },
    {
      "cell_type": "code",
      "source": [
        "a = 10 # not operator\n",
        "\n",
        "if not (a % 3 == 0 or a % 5 == 0):\n",
        "    print(\"10 is not divisible by either 3 or 5\")\n",
        "else:\n",
        "    print(\"10 is divisible by either 3 or 5\")"
      ],
      "metadata": {
        "colab": {
          "base_uri": "https://localhost:8080/"
        },
        "id": "hTKt6tg1lWc3",
        "outputId": "a3063742-d564-4ebf-85fa-58aa3dd6b2c9"
      },
      "execution_count": 51,
      "outputs": [
        {
          "output_type": "stream",
          "name": "stdout",
          "text": [
            "10 is divisible by either 3 or 5\n"
          ]
        }
      ]
    },
    {
      "cell_type": "markdown",
      "source": [
        "9. Write a Python program to convert user input from string to integer, float, and boolean types."
      ],
      "metadata": {
        "id": "OukBd4K7lzK7"
      }
    },
    {
      "cell_type": "code",
      "source": [
        "s = \"123\" # string into integer\n",
        "num = int(s)\n",
        "print(num)\n"
      ],
      "metadata": {
        "colab": {
          "base_uri": "https://localhost:8080/"
        },
        "id": "G1aT8lkQl72h",
        "outputId": "b6f38566-91e3-4a5c-b562-a51c6cd3a3c8"
      },
      "execution_count": 54,
      "outputs": [
        {
          "output_type": "stream",
          "name": "stdout",
          "text": [
            "123\n"
          ]
        }
      ]
    },
    {
      "cell_type": "code",
      "source": [
        "s = \"123\"  #string into float\n",
        "num = float(s)\n",
        "print(num)"
      ],
      "metadata": {
        "colab": {
          "base_uri": "https://localhost:8080/"
        },
        "id": "GgJDFm04mk7a",
        "outputId": "08155bf2-d156-43ab-e1bf-b90cb81dde56"
      },
      "execution_count": 55,
      "outputs": [
        {
          "output_type": "stream",
          "name": "stdout",
          "text": [
            "123.0\n"
          ]
        }
      ]
    },
    {
      "cell_type": "code",
      "source": [
        "string_value1 = \"My name is yogesh\" # string to boolean\n",
        "string_value2 = \"\"\n",
        "boolean_value1 = bool(string_value1)\n",
        "boolean_value2 = bool(string_value2)\n",
        "print(boolean_value1)\n",
        "print(boolean_value2)"
      ],
      "metadata": {
        "colab": {
          "base_uri": "https://localhost:8080/"
        },
        "id": "62WWx131mwvp",
        "outputId": "d7b80710-6710-4866-c23e-86391852ac59"
      },
      "execution_count": 58,
      "outputs": [
        {
          "output_type": "stream",
          "name": "stdout",
          "text": [
            "True\n",
            "False\n"
          ]
        }
      ]
    },
    {
      "cell_type": "markdown",
      "source": [
        "10. Write code to demonstrate type casting with list elements."
      ],
      "metadata": {
        "id": "MYZSXpgTnwX7"
      }
    },
    {
      "cell_type": "code",
      "source": [
        "a = [1,2,3,4,5]\n",
        "b = [str(i) for i in a]\n",
        "print(b)"
      ],
      "metadata": {
        "colab": {
          "base_uri": "https://localhost:8080/"
        },
        "id": "3doMBZQQn5xp",
        "outputId": "0fb67198-5da4-49dc-897c-ee7b575e92d8"
      },
      "execution_count": 69,
      "outputs": [
        {
          "output_type": "stream",
          "name": "stdout",
          "text": [
            "['1', '2', '3', '4', '5']\n"
          ]
        }
      ]
    },
    {
      "cell_type": "markdown",
      "source": [
        "11.  Write a program that checks if a number is positive, negative, or zero.\n"
      ],
      "metadata": {
        "id": "9PXhOHTNoXnP"
      }
    },
    {
      "cell_type": "code",
      "source": [
        "n = 10\n",
        "if n > 0:\n",
        "    print(\"Positive\")\n",
        "elif n < 0:\n",
        "    print(\"Negative\")\n",
        "else:\n",
        "    print(\"Zero\")\n",
        ""
      ],
      "metadata": {
        "colab": {
          "base_uri": "https://localhost:8080/"
        },
        "id": "n9LScUSiodN4",
        "outputId": "9c183bc4-84b1-4cd1-f1c0-a1ba4e0f8e3c"
      },
      "execution_count": 64,
      "outputs": [
        {
          "output_type": "stream",
          "name": "stdout",
          "text": [
            "Positive\n"
          ]
        }
      ]
    },
    {
      "cell_type": "markdown",
      "source": [
        "12. Write a for loop to print numbers from 1 to 10"
      ],
      "metadata": {
        "id": "n-kh0EnQpYAo"
      }
    },
    {
      "cell_type": "code",
      "source": [
        "for i in range(1,11):\n",
        "  print(i)"
      ],
      "metadata": {
        "colab": {
          "base_uri": "https://localhost:8080/"
        },
        "id": "ZZuubs-Bpgl-",
        "outputId": "6df54aa9-65ed-41a9-8d51-e252c4513063"
      },
      "execution_count": 65,
      "outputs": [
        {
          "output_type": "stream",
          "name": "stdout",
          "text": [
            "1\n",
            "2\n",
            "3\n",
            "4\n",
            "5\n",
            "6\n",
            "7\n",
            "8\n",
            "9\n",
            "10\n"
          ]
        }
      ]
    },
    {
      "cell_type": "markdown",
      "source": [
        "13. Write a Python program to find the sum of all even numbers between 1 and 50."
      ],
      "metadata": {
        "id": "8WmBxNLUpmcR"
      }
    },
    {
      "cell_type": "code",
      "source": [
        "for number in range(1, 51):\n",
        "   if number % 2 == 0:\n",
        "     sum_of_evens += number\n",
        "print(\"The sum of all even numbers between 1 and 50 is:\", sum_of_evens)"
      ],
      "metadata": {
        "colab": {
          "base_uri": "https://localhost:8080/",
          "height": 200
        },
        "id": "An7eZaohprbe",
        "outputId": "09676cf7-3042-4d65-c0e5-9768c3d8c2bf"
      },
      "execution_count": 67,
      "outputs": [
        {
          "output_type": "error",
          "ename": "NameError",
          "evalue": "name 'sum_of_evens' is not defined",
          "traceback": [
            "\u001b[0;31m---------------------------------------------------------------------------\u001b[0m",
            "\u001b[0;31mNameError\u001b[0m                                 Traceback (most recent call last)",
            "\u001b[0;32m<ipython-input-67-0df63f8a678e>\u001b[0m in \u001b[0;36m<cell line: 0>\u001b[0;34m()\u001b[0m\n\u001b[1;32m      1\u001b[0m \u001b[0;32mfor\u001b[0m \u001b[0mnumber\u001b[0m \u001b[0;32min\u001b[0m \u001b[0mrange\u001b[0m\u001b[0;34m(\u001b[0m\u001b[0;36m1\u001b[0m\u001b[0;34m,\u001b[0m \u001b[0;36m51\u001b[0m\u001b[0;34m)\u001b[0m\u001b[0;34m:\u001b[0m\u001b[0;34m\u001b[0m\u001b[0;34m\u001b[0m\u001b[0m\n\u001b[1;32m      2\u001b[0m    \u001b[0;32mif\u001b[0m \u001b[0mnumber\u001b[0m \u001b[0;34m%\u001b[0m \u001b[0;36m2\u001b[0m \u001b[0;34m==\u001b[0m \u001b[0;36m0\u001b[0m\u001b[0;34m:\u001b[0m\u001b[0;34m\u001b[0m\u001b[0;34m\u001b[0m\u001b[0m\n\u001b[0;32m----> 3\u001b[0;31m      \u001b[0msum_of_evens\u001b[0m \u001b[0;34m+=\u001b[0m \u001b[0mnumber\u001b[0m\u001b[0;34m\u001b[0m\u001b[0;34m\u001b[0m\u001b[0m\n\u001b[0m\u001b[1;32m      4\u001b[0m \u001b[0mprint\u001b[0m\u001b[0;34m(\u001b[0m\u001b[0;34m\"The sum of all even numbers between 1 and 50 is:\"\u001b[0m\u001b[0;34m,\u001b[0m \u001b[0msum_of_evens\u001b[0m\u001b[0;34m)\u001b[0m\u001b[0;34m\u001b[0m\u001b[0;34m\u001b[0m\u001b[0m\n",
            "\u001b[0;31mNameError\u001b[0m: name 'sum_of_evens' is not defined"
          ]
        }
      ]
    },
    {
      "cell_type": "markdown",
      "source": [
        "14. Write a program to reverse a string using a while loop."
      ],
      "metadata": {
        "id": "UkQq8MxVqt6R"
      }
    },
    {
      "cell_type": "code",
      "source": [
        "text = \"Hello World\"\n",
        "print(text[::-1])"
      ],
      "metadata": {
        "colab": {
          "base_uri": "https://localhost:8080/"
        },
        "id": "f2e5LwRbqvVl",
        "outputId": "d84e05e1-20bb-413e-bf14-8c55da087294"
      },
      "execution_count": 68,
      "outputs": [
        {
          "output_type": "stream",
          "name": "stdout",
          "text": [
            "dlroW olleH\n"
          ]
        }
      ]
    },
    {
      "cell_type": "markdown",
      "source": [
        "15.Write a Python program to calculate the factorial of a number provided by the user using a while loop"
      ],
      "metadata": {
        "id": "c1vLiZuJq9AY"
      }
    }
  ]
}